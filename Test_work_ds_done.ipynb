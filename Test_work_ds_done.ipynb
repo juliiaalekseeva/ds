{
 "cells": [
  {
   "cell_type": "markdown",
   "metadata": {},
   "source": [
    "\n",
    "## Задача А:\n",
    "\n",
    "К нам приходят логи поведения пользователей в интернете (по 5 минут). Система логирования достаточно сложная и многоуровневая, плюс сами логи могут быть очень большими. Это приводит к потери части логов, которые потом могут быть догруженны, но с неправильным временем. Нужно выявлять такие аномалии.\n",
    "У вас есть 2 файла:\n",
    "\n",
    "    1. data_test.csv - 2 колонки. В первой - время в формате timestamp, во второй - объем логов за 5 минут начиная с секунды указаной в первой колонке. Данные за 1 месяц, гранулярность 5 мин\n",
    "    \n",
    "    2. anomaly.csv - 1 колонка. Начало 5 минутного интервала, объем логов в котором считается аномальным. Это результаты ручной разметки группы тестирования. Мы принимаем это за истинну"
   ]
  },
  {
   "cell_type": "markdown",
   "metadata": {},
   "source": [
    "### Требуется:\n",
    "    1. Прочитать данные и сформировать датафрейм с идентификатором, признаком (или признаками) и таргетом\n",
    "    2. Посмотреть базовые статистики распределения количества запросов за 5 минут. Сделать выводы о характере распределения и его особенностях \n",
    "    3. Визуализировать данные. Явно показать на графике аномалии\n",
    "    4. Предложить гипотезы по способу определения аномалий, если возможно - проверить некоторые\n",
    "    5. Обучить любую модель, которая могла бы находить аномалии в таких данных. Оценить качество полученного решения и потенциал по его улучшению"
   ]
  },
  {
   "cell_type": "markdown",
   "metadata": {},
   "source": [
    "## Задача В:\n",
    "На вход приходит список итераторов. \n",
    "\n",
    "    1. Самым быстрым способом посчитать количество уникальных элементов во всех итераторах (т.е. надо вернуть 1 число, количество всех уникальных элементов во всех итераторах)    \n",
    "    2. Сформировать список уникальных элементов из пункт 1 с количествами их встречаемости в исходных итераторах(во всех, а не каждому)\n",
    "    \n",
    "    Ниже приведен пример входа для этой задачи. Список итераторов"
   ]
  },
  {
   "cell_type": "code",
   "execution_count": 1,
   "metadata": {},
   "outputs": [],
   "source": [
    "# то что дано\n",
    "# Входные данные\n",
    "import numpy as np\n",
    "a = [range(10**2),\n",
    "     ((i*2-8)%100 for i in range(100,2**12,2)),\n",
    "     ((i+105)%100 for i in range(7**7)),\n",
    "     np.random.randint(low = 0,high = 100, size = 10**5)]"
   ]
  },
  {
   "cell_type": "markdown",
   "metadata": {},
   "source": [
    "### add some lybraries (все которые могут понадобится)"
   ]
  },
  {
   "cell_type": "code",
   "execution_count": 2,
   "metadata": {},
   "outputs": [],
   "source": [
    "import pandas as pd\n",
    "from scipy import stats as st\n",
    "import seaborn as sns\n",
    "import numpy as np\n",
    "import math as mth\n",
    "import matplotlib.pyplot as plt\n",
    "from pandas.plotting import register_matplotlib_converters\n",
    "import warnings\n",
    "import datetime as dt\n",
    "from datetime import datetime, timedelta\n",
    "from matplotlib.pyplot import figure\n",
    "from plotly import graph_objects as go\n",
    "from pandas.plotting import register_matplotlib_converters\n",
    "register_matplotlib_converters()\n",
    "import plotly.graph_objs as go\n",
    "from collections import Counter\n",
    "from plotly import graph_objects as go"
   ]
  },
  {
   "cell_type": "markdown",
   "metadata": {},
   "source": [
    "### Перейдем к базовой предобработке данных "
   ]
  },
  {
   "cell_type": "code",
   "execution_count": 3,
   "metadata": {},
   "outputs": [],
   "source": [
    "# открываем все файлы с датой\n",
    "file_path = '/Users/y.p.alekseeva/Desktop/Test_work_PBD/data_test.csv'"
   ]
  },
  {
   "cell_type": "code",
   "execution_count": 4,
   "metadata": {},
   "outputs": [],
   "source": [
    "# открываем все файлы с датой\n",
    "path = '/Users/y.p.alekseeva/Desktop/Test_work_PBD/anomaly.csv' "
   ]
  },
  {
   "cell_type": "code",
   "execution_count": 5,
   "metadata": {},
   "outputs": [],
   "source": [
    "logs = pd.read_csv(file_path, sep='\\t')"
   ]
  },
  {
   "cell_type": "code",
   "execution_count": 6,
   "metadata": {},
   "outputs": [],
   "source": [
    "anomaly = pd.read_csv(path)"
   ]
  },
  {
   "cell_type": "code",
   "execution_count": 7,
   "metadata": {},
   "outputs": [
    {
     "data": {
      "text/html": [
       "<div>\n",
       "<style scoped>\n",
       "    .dataframe tbody tr th:only-of-type {\n",
       "        vertical-align: middle;\n",
       "    }\n",
       "\n",
       "    .dataframe tbody tr th {\n",
       "        vertical-align: top;\n",
       "    }\n",
       "\n",
       "    .dataframe thead th {\n",
       "        text-align: right;\n",
       "    }\n",
       "</style>\n",
       "<table border=\"1\" class=\"dataframe\">\n",
       "  <thead>\n",
       "    <tr style=\"text-align: right;\">\n",
       "      <th></th>\n",
       "      <th>timestamp_minutes5</th>\n",
       "      <th>sum_count</th>\n",
       "    </tr>\n",
       "  </thead>\n",
       "  <tbody>\n",
       "    <tr>\n",
       "      <th>0</th>\n",
       "      <td>1559336400</td>\n",
       "      <td>31466984.0</td>\n",
       "    </tr>\n",
       "    <tr>\n",
       "      <th>1</th>\n",
       "      <td>1559336700</td>\n",
       "      <td>29108251.0</td>\n",
       "    </tr>\n",
       "    <tr>\n",
       "      <th>2</th>\n",
       "      <td>1559337000</td>\n",
       "      <td>28475443.0</td>\n",
       "    </tr>\n",
       "    <tr>\n",
       "      <th>3</th>\n",
       "      <td>1559337300</td>\n",
       "      <td>27278641.0</td>\n",
       "    </tr>\n",
       "    <tr>\n",
       "      <th>4</th>\n",
       "      <td>1559337600</td>\n",
       "      <td>26539619.0</td>\n",
       "    </tr>\n",
       "  </tbody>\n",
       "</table>\n",
       "</div>"
      ],
      "text/plain": [
       "   timestamp_minutes5   sum_count\n",
       "0          1559336400  31466984.0\n",
       "1          1559336700  29108251.0\n",
       "2          1559337000  28475443.0\n",
       "3          1559337300  27278641.0\n",
       "4          1559337600  26539619.0"
      ]
     },
     "execution_count": 7,
     "metadata": {},
     "output_type": "execute_result"
    }
   ],
   "source": [
    "logs.head()"
   ]
  },
  {
   "cell_type": "code",
   "execution_count": 8,
   "metadata": {},
   "outputs": [
    {
     "data": {
      "text/html": [
       "<div>\n",
       "<style scoped>\n",
       "    .dataframe tbody tr th:only-of-type {\n",
       "        vertical-align: middle;\n",
       "    }\n",
       "\n",
       "    .dataframe tbody tr th {\n",
       "        vertical-align: top;\n",
       "    }\n",
       "\n",
       "    .dataframe thead th {\n",
       "        text-align: right;\n",
       "    }\n",
       "</style>\n",
       "<table border=\"1\" class=\"dataframe\">\n",
       "  <thead>\n",
       "    <tr style=\"text-align: right;\">\n",
       "      <th></th>\n",
       "      <th>timestamp_minutes5</th>\n",
       "    </tr>\n",
       "  </thead>\n",
       "  <tbody>\n",
       "    <tr>\n",
       "      <th>0</th>\n",
       "      <td>1559372700</td>\n",
       "    </tr>\n",
       "    <tr>\n",
       "      <th>1</th>\n",
       "      <td>1559373000</td>\n",
       "    </tr>\n",
       "    <tr>\n",
       "      <th>2</th>\n",
       "      <td>1559373300</td>\n",
       "    </tr>\n",
       "    <tr>\n",
       "      <th>3</th>\n",
       "      <td>1559373600</td>\n",
       "    </tr>\n",
       "    <tr>\n",
       "      <th>4</th>\n",
       "      <td>1559373900</td>\n",
       "    </tr>\n",
       "  </tbody>\n",
       "</table>\n",
       "</div>"
      ],
      "text/plain": [
       "   timestamp_minutes5\n",
       "0          1559372700\n",
       "1          1559373000\n",
       "2          1559373300\n",
       "3          1559373600\n",
       "4          1559373900"
      ]
     },
     "execution_count": 8,
     "metadata": {},
     "output_type": "execute_result"
    }
   ],
   "source": [
    "anomaly.head()"
   ]
  },
  {
   "cell_type": "code",
   "execution_count": 9,
   "metadata": {},
   "outputs": [
    {
     "name": "stdout",
     "output_type": "stream",
     "text": [
      "<class 'pandas.core.frame.DataFrame'>\n",
      "RangeIndex: 7514 entries, 0 to 7513\n",
      "Data columns (total 2 columns):\n",
      " #   Column              Non-Null Count  Dtype  \n",
      "---  ------              --------------  -----  \n",
      " 0   timestamp_minutes5  7514 non-null   int64  \n",
      " 1   sum_count           7514 non-null   float64\n",
      "dtypes: float64(1), int64(1)\n",
      "memory usage: 117.5 KB\n"
     ]
    }
   ],
   "source": [
    "logs.info()\n",
    "# читаем инфу по данным, ничего интересного пока, только дата неудобного формата"
   ]
  },
  {
   "cell_type": "code",
   "execution_count": 10,
   "metadata": {},
   "outputs": [
    {
     "data": {
      "text/plain": [
       "0"
      ]
     },
     "execution_count": 10,
     "metadata": {},
     "output_type": "execute_result"
    }
   ],
   "source": [
    "logs.duplicated().sum()"
   ]
  },
  {
   "cell_type": "code",
   "execution_count": 11,
   "metadata": {},
   "outputs": [],
   "source": [
    "logs.drop_duplicates(inplace=True) "
   ]
  },
  {
   "cell_type": "code",
   "execution_count": 12,
   "metadata": {},
   "outputs": [
    {
     "name": "stdout",
     "output_type": "stream",
     "text": [
      "<class 'pandas.core.frame.DataFrame'>\n",
      "RangeIndex: 123 entries, 0 to 122\n",
      "Data columns (total 1 columns):\n",
      " #   Column              Non-Null Count  Dtype\n",
      "---  ------              --------------  -----\n",
      " 0   timestamp_minutes5  123 non-null    int64\n",
      "dtypes: int64(1)\n",
      "memory usage: 1.1 KB\n"
     ]
    }
   ],
   "source": [
    "anomaly.info()\n",
    "# читаем инфу по данным, ничего интересного пока, только дата неудобного формата 2"
   ]
  },
  {
   "cell_type": "code",
   "execution_count": 13,
   "metadata": {},
   "outputs": [
    {
     "data": {
      "text/plain": [
       "25"
      ]
     },
     "execution_count": 13,
     "metadata": {},
     "output_type": "execute_result"
    }
   ],
   "source": [
    "anomaly.duplicated().sum()"
   ]
  },
  {
   "cell_type": "code",
   "execution_count": 14,
   "metadata": {},
   "outputs": [],
   "source": [
    "anomaly.drop_duplicates(inplace=True) "
   ]
  },
  {
   "cell_type": "code",
   "execution_count": 15,
   "metadata": {},
   "outputs": [],
   "source": [
    " # мержим датафреймы для обработки дальнейшей, ставим 1 при наличии аномалии\n",
    "logs = logs.merge(anomaly.assign(anomaly=1), on='timestamp_minutes5', how='left')\n",
    "logs['anomaly'].fillna(0, inplace=True)\n",
    "logs['anomaly'] = logs['anomaly'].astype('int')"
   ]
  },
  {
   "cell_type": "code",
   "execution_count": 16,
   "metadata": {},
   "outputs": [
    {
     "data": {
      "text/html": [
       "<div>\n",
       "<style scoped>\n",
       "    .dataframe tbody tr th:only-of-type {\n",
       "        vertical-align: middle;\n",
       "    }\n",
       "\n",
       "    .dataframe tbody tr th {\n",
       "        vertical-align: top;\n",
       "    }\n",
       "\n",
       "    .dataframe thead th {\n",
       "        text-align: right;\n",
       "    }\n",
       "</style>\n",
       "<table border=\"1\" class=\"dataframe\">\n",
       "  <thead>\n",
       "    <tr style=\"text-align: right;\">\n",
       "      <th></th>\n",
       "      <th>time</th>\n",
       "      <th>sum_count</th>\n",
       "      <th>anomaly</th>\n",
       "    </tr>\n",
       "  </thead>\n",
       "  <tbody>\n",
       "    <tr>\n",
       "      <th>0</th>\n",
       "      <td>1559336400</td>\n",
       "      <td>31466984.0</td>\n",
       "      <td>0</td>\n",
       "    </tr>\n",
       "    <tr>\n",
       "      <th>1</th>\n",
       "      <td>1559336700</td>\n",
       "      <td>29108251.0</td>\n",
       "      <td>0</td>\n",
       "    </tr>\n",
       "    <tr>\n",
       "      <th>2</th>\n",
       "      <td>1559337000</td>\n",
       "      <td>28475443.0</td>\n",
       "      <td>0</td>\n",
       "    </tr>\n",
       "    <tr>\n",
       "      <th>3</th>\n",
       "      <td>1559337300</td>\n",
       "      <td>27278641.0</td>\n",
       "      <td>0</td>\n",
       "    </tr>\n",
       "    <tr>\n",
       "      <th>4</th>\n",
       "      <td>1559337600</td>\n",
       "      <td>26539619.0</td>\n",
       "      <td>0</td>\n",
       "    </tr>\n",
       "    <tr>\n",
       "      <th>5</th>\n",
       "      <td>1559337900</td>\n",
       "      <td>26135431.0</td>\n",
       "      <td>0</td>\n",
       "    </tr>\n",
       "    <tr>\n",
       "      <th>6</th>\n",
       "      <td>1559338200</td>\n",
       "      <td>25033838.0</td>\n",
       "      <td>0</td>\n",
       "    </tr>\n",
       "    <tr>\n",
       "      <th>7</th>\n",
       "      <td>1559338500</td>\n",
       "      <td>23503759.0</td>\n",
       "      <td>0</td>\n",
       "    </tr>\n",
       "    <tr>\n",
       "      <th>8</th>\n",
       "      <td>1559338800</td>\n",
       "      <td>23214042.0</td>\n",
       "      <td>0</td>\n",
       "    </tr>\n",
       "    <tr>\n",
       "      <th>9</th>\n",
       "      <td>1559339100</td>\n",
       "      <td>22845197.0</td>\n",
       "      <td>0</td>\n",
       "    </tr>\n",
       "  </tbody>\n",
       "</table>\n",
       "</div>"
      ],
      "text/plain": [
       "         time   sum_count  anomaly\n",
       "0  1559336400  31466984.0        0\n",
       "1  1559336700  29108251.0        0\n",
       "2  1559337000  28475443.0        0\n",
       "3  1559337300  27278641.0        0\n",
       "4  1559337600  26539619.0        0\n",
       "5  1559337900  26135431.0        0\n",
       "6  1559338200  25033838.0        0\n",
       "7  1559338500  23503759.0        0\n",
       "8  1559338800  23214042.0        0\n",
       "9  1559339100  22845197.0        0"
      ]
     },
     "execution_count": 16,
     "metadata": {},
     "output_type": "execute_result"
    }
   ],
   "source": [
    "logs.rename(columns={'timestamp_minutes5': 'time'}, inplace=True)\n",
    "logs.head(10)"
   ]
  },
  {
   "cell_type": "code",
   "execution_count": 17,
   "metadata": {},
   "outputs": [],
   "source": [
    "# time was edited to readable user friendly format\n",
    "logs['time'] = pd.to_datetime(logs['time'], unit='s')"
   ]
  },
  {
   "cell_type": "code",
   "execution_count": 18,
   "metadata": {},
   "outputs": [
    {
     "data": {
      "text/html": [
       "<div>\n",
       "<style scoped>\n",
       "    .dataframe tbody tr th:only-of-type {\n",
       "        vertical-align: middle;\n",
       "    }\n",
       "\n",
       "    .dataframe tbody tr th {\n",
       "        vertical-align: top;\n",
       "    }\n",
       "\n",
       "    .dataframe thead th {\n",
       "        text-align: right;\n",
       "    }\n",
       "</style>\n",
       "<table border=\"1\" class=\"dataframe\">\n",
       "  <thead>\n",
       "    <tr style=\"text-align: right;\">\n",
       "      <th></th>\n",
       "      <th>time</th>\n",
       "      <th>sum_count</th>\n",
       "      <th>anomaly</th>\n",
       "    </tr>\n",
       "  </thead>\n",
       "  <tbody>\n",
       "    <tr>\n",
       "      <th>0</th>\n",
       "      <td>2019-05-31 21:00:00</td>\n",
       "      <td>31466984.0</td>\n",
       "      <td>0</td>\n",
       "    </tr>\n",
       "    <tr>\n",
       "      <th>1</th>\n",
       "      <td>2019-05-31 21:05:00</td>\n",
       "      <td>29108251.0</td>\n",
       "      <td>0</td>\n",
       "    </tr>\n",
       "    <tr>\n",
       "      <th>2</th>\n",
       "      <td>2019-05-31 21:10:00</td>\n",
       "      <td>28475443.0</td>\n",
       "      <td>0</td>\n",
       "    </tr>\n",
       "    <tr>\n",
       "      <th>3</th>\n",
       "      <td>2019-05-31 21:15:00</td>\n",
       "      <td>27278641.0</td>\n",
       "      <td>0</td>\n",
       "    </tr>\n",
       "    <tr>\n",
       "      <th>4</th>\n",
       "      <td>2019-05-31 21:20:00</td>\n",
       "      <td>26539619.0</td>\n",
       "      <td>0</td>\n",
       "    </tr>\n",
       "  </tbody>\n",
       "</table>\n",
       "</div>"
      ],
      "text/plain": [
       "                 time   sum_count  anomaly\n",
       "0 2019-05-31 21:00:00  31466984.0        0\n",
       "1 2019-05-31 21:05:00  29108251.0        0\n",
       "2 2019-05-31 21:10:00  28475443.0        0\n",
       "3 2019-05-31 21:15:00  27278641.0        0\n",
       "4 2019-05-31 21:20:00  26539619.0        0"
      ]
     },
     "execution_count": 18,
     "metadata": {},
     "output_type": "execute_result"
    }
   ],
   "source": [
    "logs.head()"
   ]
  },
  {
   "cell_type": "markdown",
   "metadata": {},
   "source": [
    "***Получили датасет с идентификатором начала 5-минутного интервала, объемом логов за каждый 5-минутный интервал и целевой переменной***"
   ]
  },
  {
   "cell_type": "code",
   "execution_count": 19,
   "metadata": {},
   "outputs": [
    {
     "data": {
      "text/plain": [
       "count    7.514000e+03\n",
       "mean     2.152030e+07\n",
       "std      8.580380e+06\n",
       "min      2.184130e+05\n",
       "25%      1.398447e+07\n",
       "50%      2.263805e+07\n",
       "75%      2.775650e+07\n",
       "max      4.705891e+07\n",
       "Name: sum_count, dtype: float64"
      ]
     },
     "execution_count": 19,
     "metadata": {},
     "output_type": "execute_result"
    }
   ],
   "source": [
    " # базовая статистическая история\n",
    "logs['sum_count'].describe()"
   ]
  },
  {
   "cell_type": "code",
   "execution_count": 20,
   "metadata": {},
   "outputs": [
    {
     "data": {
      "image/png": "[encoded data removed]",
      "text/plain": [
       "<Figure size 640x480 with 1 Axes>"
      ]
     },
     "metadata": {},
     "output_type": "display_data"
    }
   ],
   "source": [
    "data = logs['sum_count']\n",
    "sns.boxplot(data)\n",
    "plt.title('Распределение объема логов')\n",
    "plt.xlabel('sum_count')\n",
    "plt.show()"
   ]
  },
  {
   "cell_type": "markdown",
   "metadata": {},
   "source": [
    "***Что можем сказать?***\n",
    "\n",
    "- в среднем за 5 минут генерируется около 21.5 миллионов запросов\n",
    " - большой разброс данных (судя по стандартному отклонению) и перцентилям\n",
    " - 25% всех измерений имеют количество запросов менее 14 миллионов, а 75% всех измерений имеют количество запросов менее 28 миллионов\n",
    " - учитывая то, что медиана близка к среднему значению, распределение данных относительно симметрично"
   ]
  },
  {
   "cell_type": "code",
   "execution_count": 21,
   "metadata": {},
   "outputs": [
    {
     "data": {
      "image/png": "[encoded data removed]",
      "text/plain": [
       "<Figure size 1400x700 with 1 Axes>"
      ]
     },
     "metadata": {},
     "output_type": "display_data"
    }
   ],
   "source": [
    "plt.figure(figsize=(14, 7))\n",
    "plt.plot(logs['time'], logs['sum_count'], label='Base')\n",
    "plt.scatter(logs[logs['anomaly'] == 1]['time'], logs[logs['anomaly'] == 1]['sum_count'], color='red', label='Anomaly')\n",
    "plt.title('Количество логов во времени с выделенными аномалиями')\n",
    "plt.xlabel('Время')\n",
    "plt.ylabel('Количество логов')\n",
    "plt.legend()\n",
    "plt.show()"
   ]
  },
  {
   "cell_type": "markdown",
   "metadata": {},
   "source": [
    "***График количества логов во времени с выделенными аномалиями показывает:***\n",
    "\n",
    "- цикличность данных, что может указывать на периодически повторяющуюся активность, связанную с определёнными временными промежутками (например, регулярные задачи в виде ежедневного резервного копирования).\n",
    "- данные, которые были помечены как аномальные (выходят за общий тренд и представляют значения, сильно отличающиеся от ожидаемых на основании большинства данных)\n",
    "- существующую волатильность те разброс значений, где пики и спады более выражены, что может указывать на изменение активности или наличие событий, влияющих на генерацию логов.\n",
    "- пики, особенно высокие тоже показывают высокую активность или кенерацию big data\n",
    "- наличие трендов, паттернов и сезонности, например, увеличение количества логов к определённым датам или времени года\n",
    "- если аномалии это не неестественное поведение системы, значит можно ставить гипотезу о наличии возможныых сбоях "
   ]
  },
  {
   "cell_type": "code",
   "execution_count": 22,
   "metadata": {
    "scrolled": true
   },
   "outputs": [
    {
     "name": "stderr",
     "output_type": "stream",
     "text": [
      "/opt/anaconda3/lib/python3.11/site-packages/seaborn/_oldcore.py:1119: FutureWarning: use_inf_as_na option is deprecated and will be removed in a future version. Convert inf values to NaN before operating instead.\n",
      "  with pd.option_context('mode.use_inf_as_na', True):\n"
     ]
    },
    {
     "data": {
      "image/png": "[encoded data removed]",
      "text/plain": [
       "<Figure size 1200x600 with 1 Axes>"
      ]
     },
     "metadata": {},
     "output_type": "display_data"
    }
   ],
   "source": [
    "plt.figure(figsize=(12, 6))\n",
    "sns.histplot(logs['sum_count'], kde=True, color=\"skyblue\")\n",
    "plt.title('Распределение количества логов за 5 минут')\n",
    "plt.xlabel('Количество логов')\n",
    "plt.ylabel('Частота')\n",
    "plt.grid(True)\n",
    "plt.show()"
   ]
  },
  {
   "cell_type": "markdown",
   "metadata": {},
   "source": [
    "***Что можем сказать***\n",
    "- По графику видим, что есть два пика, которые могут указывать на два наиболее часто встречающихся значения или группы значений количества логов, однако распределение выглядит относительно симметричным вокруг двух пиков\n",
    "- можно предположить что есть 2 группы с нормально распределенными значениями\n",
    "- Существует несколько возможных и существенных выбросов, представленных столбцами на концах гистограммы\n",
    "- В пределах 1 и 3.5 миллионов логов находится основная часть наблюдений.\n",
    "- На гистограмме видны несколько столбцов, которые находятся слишком далеко от основной массы данных, что может свидетельствовать об аномалиях"
   ]
  },
  {
   "cell_type": "markdown",
   "metadata": {},
   "source": [
    "### Определение аномальных значений\n",
    "- Аномалии могут быть определены, если объем логов за 5 минут значительно отличается от среднего значения, например, выходит за пределы 2-3 стандартных отклонений от среднего.\n",
    "- Через IQR: аномальными могут считаться значения, выходящие за пределы 1.5 IQR выше третьего квартиля или ниже первого квартиля.\n",
    "- Сезонные или временные аномалии: те что происходят в необычное время, например, значительный рост активности ночью или значительные изменения в объеме логов по сравнению с предыдущими периодами.\n",
    "\n",
    "Для проверки этих гипотез можно пойти через стат параметры и метрики (среднее значение и стандартное отклонение для sum_count и определение пороговых значений для аномалий)"
   ]
  },
  {
   "cell_type": "code",
   "execution_count": 33,
   "metadata": {},
   "outputs": [
    {
     "name": "stdout",
     "output_type": "stream",
     "text": [
      "21520295.106867183\n",
      "8580379.707961446\n"
     ]
    },
    {
     "data": {
      "text/html": [
       "<div>\n",
       "<style scoped>\n",
       "    .dataframe tbody tr th:only-of-type {\n",
       "        vertical-align: middle;\n",
       "    }\n",
       "\n",
       "    .dataframe tbody tr th {\n",
       "        vertical-align: top;\n",
       "    }\n",
       "\n",
       "    .dataframe thead th {\n",
       "        text-align: right;\n",
       "    }\n",
       "</style>\n",
       "<table border=\"1\" class=\"dataframe\">\n",
       "  <thead>\n",
       "    <tr style=\"text-align: right;\">\n",
       "      <th></th>\n",
       "      <th>time</th>\n",
       "      <th>sum_count</th>\n",
       "      <th>anomaly</th>\n",
       "      <th>hour</th>\n",
       "    </tr>\n",
       "  </thead>\n",
       "  <tbody>\n",
       "  </tbody>\n",
       "</table>\n",
       "</div>"
      ],
      "text/plain": [
       "Empty DataFrame\n",
       "Columns: [time, sum_count, anomaly, hour]\n",
       "Index: []"
      ]
     },
     "execution_count": 33,
     "metadata": {},
     "output_type": "execute_result"
    }
   ],
   "source": [
    "# Аномалии могут быть определены, если объем логов за 5 минут значительно отличается от среднего значения, \n",
    "# например, выходит за пределы 2-3 стандартных отклонений от среднего.\n",
    "mean_logs = logs['sum_count'].mean()\n",
    "std_logs = logs['sum_count'].std()\n",
    "\n",
    "# наблюдения, которые выходят за пределы 2-3 стандартных отклонений\n",
    "anomalies_std = logs[(logs['sum_count'] < (mean_logs - 3 * std_logs)) | \n",
    "                     (logs['sum_count'] > (mean_logs + 3 * std_logs))]\n",
    "print(mean_logs)\n",
    "print(std_logs)\n",
    "anomalies_std"
   ]
  },
  {
   "cell_type": "markdown",
   "metadata": {},
   "source": [
    "- не видим таких отклонений"
   ]
  },
  {
   "cell_type": "code",
   "execution_count": 32,
   "metadata": {},
   "outputs": [
    {
     "name": "stdout",
     "output_type": "stream",
     "text": [
      "13984467.25\n",
      "27756499.0\n",
      "13772031.75\n",
      "Empty DataFrame\n",
      "Columns: [time, sum_count, anomaly, hour]\n",
      "Index: []\n",
      "Empty DataFrame\n",
      "Columns: [time, sum_count, anomaly, hour]\n",
      "Index: []\n"
     ]
    }
   ],
   "source": [
    "# Через IQR: аномальными могут считаться значения, выходящие за пределы 1.5 IQR выше третьего квартиля или ниже первого квартиля.\n",
    "Q1 = logs['sum_count'].quantile(0.25)\n",
    "Q3 = logs['sum_count'].quantile(0.75)\n",
    "IQR = Q3 - Q1\n",
    "\n",
    "print(Q1)\n",
    "print(Q3)\n",
    "print(IQR)\n",
    "# наблюдения, которые выходят за пределы 1.5 IQR \n",
    "print(logs[(logs['sum_count'] < (Q1 - 1.5 * IQR))])\n",
    "print(logs[(logs['sum_count'] > (Q3 + 1.5 * IQR))])"
   ]
  },
  {
   "cell_type": "markdown",
   "metadata": {},
   "source": [
    "- снова нет выраженных аномалий, хотя на графике мы их видим, возможно потребуется более детальный анализ с помощью временных рядов"
   ]
  },
  {
   "cell_type": "code",
   "execution_count": 36,
   "metadata": {},
   "outputs": [
    {
     "name": "stdout",
     "output_type": "stream",
     "text": [
      "11626480.499465812\n",
      "24803035.437433533\n"
     ]
    }
   ],
   "source": [
    "logs['hour'] = logs['time'].dt.hour\n",
    "night_time = logs[(logs['hour'] >= 0) & (logs['hour'] <= 5)]\n",
    "\n",
    "# сравним среднее кол-во логов ночью со средним в другое время\n",
    "mean_night_logs = night_time['sum_count'].mean()\n",
    "mean_day_logs = logs[(logs['hour'] > 5)]['sum_count'].mean()\n",
    "\n",
    "print(mean_night_logs)\n",
    "print(mean_day_logs)"
   ]
  },
  {
   "cell_type": "code",
   "execution_count": 38,
   "metadata": {},
   "outputs": [
    {
     "data": {
      "text/html": [
       "<div>\n",
       "<style scoped>\n",
       "    .dataframe tbody tr th:only-of-type {\n",
       "        vertical-align: middle;\n",
       "    }\n",
       "\n",
       "    .dataframe tbody tr th {\n",
       "        vertical-align: top;\n",
       "    }\n",
       "\n",
       "    .dataframe thead th {\n",
       "        text-align: right;\n",
       "    }\n",
       "</style>\n",
       "<table border=\"1\" class=\"dataframe\">\n",
       "  <thead>\n",
       "    <tr style=\"text-align: right;\">\n",
       "      <th></th>\n",
       "      <th>time</th>\n",
       "      <th>sum_count</th>\n",
       "      <th>anomaly</th>\n",
       "      <th>hour</th>\n",
       "    </tr>\n",
       "  </thead>\n",
       "  <tbody>\n",
       "    <tr>\n",
       "      <th>674</th>\n",
       "      <td>2019-06-03 05:00:00</td>\n",
       "      <td>25020486.0</td>\n",
       "      <td>0</td>\n",
       "      <td>5</td>\n",
       "    </tr>\n",
       "    <tr>\n",
       "      <th>675</th>\n",
       "      <td>2019-06-03 05:05:00</td>\n",
       "      <td>25988527.0</td>\n",
       "      <td>0</td>\n",
       "      <td>5</td>\n",
       "    </tr>\n",
       "    <tr>\n",
       "      <th>676</th>\n",
       "      <td>2019-06-03 05:10:00</td>\n",
       "      <td>26176991.0</td>\n",
       "      <td>0</td>\n",
       "      <td>5</td>\n",
       "    </tr>\n",
       "    <tr>\n",
       "      <th>677</th>\n",
       "      <td>2019-06-03 05:15:00</td>\n",
       "      <td>26148082.0</td>\n",
       "      <td>0</td>\n",
       "      <td>5</td>\n",
       "    </tr>\n",
       "    <tr>\n",
       "      <th>678</th>\n",
       "      <td>2019-06-03 05:20:00</td>\n",
       "      <td>26357438.0</td>\n",
       "      <td>0</td>\n",
       "      <td>5</td>\n",
       "    </tr>\n",
       "    <tr>\n",
       "      <th>679</th>\n",
       "      <td>2019-06-03 05:25:00</td>\n",
       "      <td>26272235.0</td>\n",
       "      <td>0</td>\n",
       "      <td>5</td>\n",
       "    </tr>\n",
       "    <tr>\n",
       "      <th>680</th>\n",
       "      <td>2019-06-03 05:30:00</td>\n",
       "      <td>26593123.0</td>\n",
       "      <td>0</td>\n",
       "      <td>5</td>\n",
       "    </tr>\n",
       "    <tr>\n",
       "      <th>681</th>\n",
       "      <td>2019-06-03 05:35:00</td>\n",
       "      <td>26666536.0</td>\n",
       "      <td>0</td>\n",
       "      <td>5</td>\n",
       "    </tr>\n",
       "    <tr>\n",
       "      <th>682</th>\n",
       "      <td>2019-06-03 05:40:00</td>\n",
       "      <td>26554771.0</td>\n",
       "      <td>0</td>\n",
       "      <td>5</td>\n",
       "    </tr>\n",
       "    <tr>\n",
       "      <th>683</th>\n",
       "      <td>2019-06-03 05:45:00</td>\n",
       "      <td>27161082.0</td>\n",
       "      <td>0</td>\n",
       "      <td>5</td>\n",
       "    </tr>\n",
       "    <tr>\n",
       "      <th>684</th>\n",
       "      <td>2019-06-03 05:50:00</td>\n",
       "      <td>26543285.0</td>\n",
       "      <td>0</td>\n",
       "      <td>5</td>\n",
       "    </tr>\n",
       "    <tr>\n",
       "      <th>685</th>\n",
       "      <td>2019-06-03 05:55:00</td>\n",
       "      <td>27259075.0</td>\n",
       "      <td>0</td>\n",
       "      <td>5</td>\n",
       "    </tr>\n",
       "    <tr>\n",
       "      <th>965</th>\n",
       "      <td>2019-06-04 05:10:00</td>\n",
       "      <td>24876061.0</td>\n",
       "      <td>0</td>\n",
       "      <td>5</td>\n",
       "    </tr>\n",
       "    <tr>\n",
       "      <th>966</th>\n",
       "      <td>2019-06-04 05:15:00</td>\n",
       "      <td>25327881.0</td>\n",
       "      <td>0</td>\n",
       "      <td>5</td>\n",
       "    </tr>\n",
       "    <tr>\n",
       "      <th>967</th>\n",
       "      <td>2019-06-04 05:20:00</td>\n",
       "      <td>25008551.0</td>\n",
       "      <td>0</td>\n",
       "      <td>5</td>\n",
       "    </tr>\n",
       "    <tr>\n",
       "      <th>968</th>\n",
       "      <td>2019-06-04 05:25:00</td>\n",
       "      <td>25162049.0</td>\n",
       "      <td>0</td>\n",
       "      <td>5</td>\n",
       "    </tr>\n",
       "    <tr>\n",
       "      <th>969</th>\n",
       "      <td>2019-06-04 05:30:00</td>\n",
       "      <td>25655103.0</td>\n",
       "      <td>0</td>\n",
       "      <td>5</td>\n",
       "    </tr>\n",
       "    <tr>\n",
       "      <th>970</th>\n",
       "      <td>2019-06-04 05:35:00</td>\n",
       "      <td>25404175.0</td>\n",
       "      <td>0</td>\n",
       "      <td>5</td>\n",
       "    </tr>\n",
       "    <tr>\n",
       "      <th>971</th>\n",
       "      <td>2019-06-04 05:40:00</td>\n",
       "      <td>25720832.0</td>\n",
       "      <td>0</td>\n",
       "      <td>5</td>\n",
       "    </tr>\n",
       "    <tr>\n",
       "      <th>972</th>\n",
       "      <td>2019-06-04 05:45:00</td>\n",
       "      <td>25883601.0</td>\n",
       "      <td>0</td>\n",
       "      <td>5</td>\n",
       "    </tr>\n",
       "    <tr>\n",
       "      <th>973</th>\n",
       "      <td>2019-06-04 05:50:00</td>\n",
       "      <td>26209657.0</td>\n",
       "      <td>0</td>\n",
       "      <td>5</td>\n",
       "    </tr>\n",
       "    <tr>\n",
       "      <th>974</th>\n",
       "      <td>2019-06-04 05:55:00</td>\n",
       "      <td>26357717.0</td>\n",
       "      <td>0</td>\n",
       "      <td>5</td>\n",
       "    </tr>\n",
       "    <tr>\n",
       "      <th>1260</th>\n",
       "      <td>2019-06-05 05:40:00</td>\n",
       "      <td>24804570.0</td>\n",
       "      <td>0</td>\n",
       "      <td>5</td>\n",
       "    </tr>\n",
       "    <tr>\n",
       "      <th>1261</th>\n",
       "      <td>2019-06-05 05:45:00</td>\n",
       "      <td>24870833.0</td>\n",
       "      <td>0</td>\n",
       "      <td>5</td>\n",
       "    </tr>\n",
       "    <tr>\n",
       "      <th>1262</th>\n",
       "      <td>2019-06-05 05:50:00</td>\n",
       "      <td>25216615.0</td>\n",
       "      <td>0</td>\n",
       "      <td>5</td>\n",
       "    </tr>\n",
       "    <tr>\n",
       "      <th>1263</th>\n",
       "      <td>2019-06-05 05:55:00</td>\n",
       "      <td>25727165.0</td>\n",
       "      <td>0</td>\n",
       "      <td>5</td>\n",
       "    </tr>\n",
       "    <tr>\n",
       "      <th>3566</th>\n",
       "      <td>2019-06-13 05:10:00</td>\n",
       "      <td>25452200.0</td>\n",
       "      <td>0</td>\n",
       "      <td>5</td>\n",
       "    </tr>\n",
       "    <tr>\n",
       "      <th>3567</th>\n",
       "      <td>2019-06-13 05:15:00</td>\n",
       "      <td>25250033.0</td>\n",
       "      <td>0</td>\n",
       "      <td>5</td>\n",
       "    </tr>\n",
       "    <tr>\n",
       "      <th>3568</th>\n",
       "      <td>2019-06-13 05:20:00</td>\n",
       "      <td>24811080.0</td>\n",
       "      <td>0</td>\n",
       "      <td>5</td>\n",
       "    </tr>\n",
       "    <tr>\n",
       "      <th>3571</th>\n",
       "      <td>2019-06-13 05:35:00</td>\n",
       "      <td>24871172.0</td>\n",
       "      <td>0</td>\n",
       "      <td>5</td>\n",
       "    </tr>\n",
       "    <tr>\n",
       "      <th>3574</th>\n",
       "      <td>2019-06-13 05:50:00</td>\n",
       "      <td>25230699.0</td>\n",
       "      <td>0</td>\n",
       "      <td>5</td>\n",
       "    </tr>\n",
       "    <tr>\n",
       "      <th>3575</th>\n",
       "      <td>2019-06-13 05:55:00</td>\n",
       "      <td>25443011.0</td>\n",
       "      <td>0</td>\n",
       "      <td>5</td>\n",
       "    </tr>\n",
       "  </tbody>\n",
       "</table>\n",
       "</div>"
      ],
      "text/plain": [
       "                    time   sum_count  anomaly  hour\n",
       "674  2019-06-03 05:00:00  25020486.0        0     5\n",
       "675  2019-06-03 05:05:00  25988527.0        0     5\n",
       "676  2019-06-03 05:10:00  26176991.0        0     5\n",
       "677  2019-06-03 05:15:00  26148082.0        0     5\n",
       "678  2019-06-03 05:20:00  26357438.0        0     5\n",
       "679  2019-06-03 05:25:00  26272235.0        0     5\n",
       "680  2019-06-03 05:30:00  26593123.0        0     5\n",
       "681  2019-06-03 05:35:00  26666536.0        0     5\n",
       "682  2019-06-03 05:40:00  26554771.0        0     5\n",
       "683  2019-06-03 05:45:00  27161082.0        0     5\n",
       "684  2019-06-03 05:50:00  26543285.0        0     5\n",
       "685  2019-06-03 05:55:00  27259075.0        0     5\n",
       "965  2019-06-04 05:10:00  24876061.0        0     5\n",
       "966  2019-06-04 05:15:00  25327881.0        0     5\n",
       "967  2019-06-04 05:20:00  25008551.0        0     5\n",
       "968  2019-06-04 05:25:00  25162049.0        0     5\n",
       "969  2019-06-04 05:30:00  25655103.0        0     5\n",
       "970  2019-06-04 05:35:00  25404175.0        0     5\n",
       "971  2019-06-04 05:40:00  25720832.0        0     5\n",
       "972  2019-06-04 05:45:00  25883601.0        0     5\n",
       "973  2019-06-04 05:50:00  26209657.0        0     5\n",
       "974  2019-06-04 05:55:00  26357717.0        0     5\n",
       "1260 2019-06-05 05:40:00  24804570.0        0     5\n",
       "1261 2019-06-05 05:45:00  24870833.0        0     5\n",
       "1262 2019-06-05 05:50:00  25216615.0        0     5\n",
       "1263 2019-06-05 05:55:00  25727165.0        0     5\n",
       "3566 2019-06-13 05:10:00  25452200.0        0     5\n",
       "3567 2019-06-13 05:15:00  25250033.0        0     5\n",
       "3568 2019-06-13 05:20:00  24811080.0        0     5\n",
       "3571 2019-06-13 05:35:00  24871172.0        0     5\n",
       "3574 2019-06-13 05:50:00  25230699.0        0     5\n",
       "3575 2019-06-13 05:55:00  25443011.0        0     5"
      ]
     },
     "execution_count": 38,
     "metadata": {},
     "output_type": "execute_result"
    }
   ],
   "source": [
    "# значительный рост ночью является аномалией, выведем аномалии\n",
    "night_anomalies = night_time[night_time['sum_count'] > mean_day_logs]\n",
    "night_anomalies"
   ]
  },
  {
   "cell_type": "markdown",
   "metadata": {},
   "source": [
    "Действительно видим ночные аномалии, но более детальнй анализ временных рядов помог бы сделать это чуть более аккуратно"
   ]
  },
  {
   "cell_type": "markdown",
   "metadata": {},
   "source": [
    "## Model"
   ]
  },
  {
   "cell_type": "code",
   "execution_count": 28,
   "metadata": {},
   "outputs": [
    {
     "name": "stdout",
     "output_type": "stream",
     "text": [
      "              precision    recall  f1-score   support\n",
      "\n",
      "           0       0.99      0.70      0.82      7391\n",
      "           1       0.03      0.46      0.05       123\n",
      "\n",
      "    accuracy                           0.70      7514\n",
      "   macro avg       0.51      0.58      0.43      7514\n",
      "weighted avg       0.97      0.70      0.81      7514\n",
      "\n",
      "Accuracy Score: 0.6985626829917487\n"
     ]
    }
   ],
   "source": [
    "from sklearn.ensemble import IsolationForest # используется для поиска аномалий \n",
    "from sklearn.metrics import classification_report, accuracy_score\n",
    "\n",
    "X = logs[['sum_count']]\n",
    "y_true = logs['anomaly']\n",
    "\n",
    "# cоздаем модель и обучим\n",
    "model = IsolationForest(n_estimators=100, contamination='auto')\n",
    "model.fit(X)\n",
    "\n",
    "y_pred = model.predict(X)\n",
    "# 0 (норма), 1 (аномалия)\n",
    "y_pred = [0 if x == 1 else 1 for x in y_pred]\n",
    "\n",
    "# оценка качества модели\n",
    "print(classification_report(y_true, y_pred))\n",
    "print(\"Accuracy Score:\", accuracy_score(y_true, y_pred))"
   ]
  },
  {
   "cell_type": "markdown",
   "metadata": {},
   "source": [
    "***Что можем сказать***\n",
    "- Точность для нормальных наблюдений очень высока и составляет 99%, что указывает на то, что модель очень хорошо определяет нормальные случаи, но не можем сказать это же про аномалии, тут точность хромает и возможно они и не являются аномалиями\n",
    "-  Модель не смогла идентифицировать около трети нормальных наблюдений, ошибочно отнесла их к аномальным (или наоборот). Для аномальных наблюдений полнота составляет 46%, что означает, что модель смогла правильно идентифицировать почти половину всех аномалий\n",
    "- F1 для нормальных наблюдений 0.80, что является хорошим результатом, но для аномальных наблюдений всего 0.04, что указывает на очень плохую эффективность модели в определении аномалий\n",
    "- Общая точность модели составляет 67.1%, что может показаться приемлемым результатом, но в контексте сильно несбалансированных групп(7391 против 123) не доказывает эффективность модели"
   ]
  },
  {
   "cell_type": "markdown",
   "metadata": {},
   "source": [
    "#### Что можем улучшить:\n",
    "\n",
    "- настроить гиперпараметры : количество параметров n_estimators и пороговое значение contamination, что значительно может улучшить результаты\n",
    "- добавить доп признаки если они будут в доступе, для более точной работы модели\n",
    "- использовать другие модели и подходы для проверки и фиксирования наилучшей для большей точности, и увеличения fit the data\n"
   ]
  },
  {
   "cell_type": "markdown",
   "metadata": {},
   "source": [
    "### Part B\n",
    "#### Количество уникальных элементов во всех итераторах и список уникальных элементов из пункт 1 с количествами их встречаемости в исходных итераторах\n"
   ]
  },
  {
   "cell_type": "code",
   "execution_count": 29,
   "metadata": {},
   "outputs": [
    {
     "name": "stdout",
     "output_type": "stream",
     "text": [
      "Количество уникальных элементов: 100\n"
     ]
    }
   ],
   "source": [
    "# из Дано\n",
    "a = [range(10**2),\n",
    "     ((i*2-8)%100 for i in range(100,2**12,2)),\n",
    "     ((i+105)%100 for i in range(7**7)),\n",
    "     np.random.randint(low=0, high=100, size=10**5)]\n",
    "\n",
    "all_elements = [] # просто список всех итераторов получаем циклом\n",
    "for iterator in a:\n",
    "    all_elements.extend(list(iterator))\n",
    "\n",
    "# количество уникальных элементов\n",
    "unique_elements = set(all_elements) # идем через множество\n",
    "print(f'Количество уникальных элементов: {len(unique_elements)}')"
   ]
  },
  {
   "cell_type": "code",
   "execution_count": 30,
   "metadata": {},
   "outputs": [
    {
     "name": "stdout",
     "output_type": "stream",
     "text": [
      "Список уникальных элементов с количествами их встречаемости: Counter({40: 9362, 28: 9340, 24: 9337, 64: 9335, 52: 9332, 95: 9331, 8: 9327, 20: 9320, 21: 9316, 60: 9316, 92: 9315, 84: 9314, 12: 9312, 80: 9312, 0: 9306, 97: 9305, 4: 9304, 88: 9297, 10: 9295, 63: 9293, 32: 9288, 50: 9287, 76: 9284, 47: 9283, 44: 9282, 55: 9281, 87: 9281, 18: 9280, 48: 9278, 7: 9277, 56: 9277, 89: 9272, 96: 9271, 26: 9268, 36: 9268, 19: 9265, 1: 9263, 34: 9263, 46: 9262, 68: 9262, 59: 9261, 91: 9261, 31: 9260, 72: 9260, 86: 9260, 99: 9260, 75: 9259, 79: 9259, 58: 9258, 22: 9256, 78: 9256, 67: 9255, 16: 9253, 17: 9253, 65: 9253, 41: 9252, 13: 9249, 33: 9249, 43: 9247, 66: 9247, 11: 9245, 15: 9245, 9: 9244, 29: 9243, 35: 9243, 62: 9243, 38: 9242, 27: 9239, 70: 9236, 69: 9235, 73: 9232, 61: 9230, 37: 9229, 98: 9229, 57: 9228, 94: 9228, 30: 9227, 83: 9227, 51: 9223, 3: 9221, 42: 9221, 2: 9220, 5: 9219, 25: 9218, 6: 9214, 90: 9214, 93: 9214, 39: 9210, 77: 9205, 53: 9200, 74: 9194, 85: 9193, 45: 9191, 49: 9191, 54: 9190, 81: 9188, 71: 9185, 14: 9181, 82: 9172, 23: 9163})\n"
     ]
    }
   ],
   "source": [
    "# список уникальных элементов из пункт 1 с количествами их встречаемости в исходных итераторах¶\n",
    "elements_count = Counter(all_elements)\n",
    "print(f'Список уникальных элементов с количествами их встречаемости: {elements_count}')"
   ]
  }
 ],
 "metadata": {
  "hide_input": false,
  "kernelspec": {
   "display_name": "Python 3 (ipykernel)",
   "language": "python",
   "name": "python3"
  },
  "language_info": {
   "codemirror_mode": {
    "name": "ipython",
    "version": 3
   },
   "file_extension": ".py",
   "mimetype": "text/x-python",
   "name": "python",
   "nbconvert_exporter": "python",
   "pygments_lexer": "ipython3",
   "version": "3.11.7"
  },
  "toc": {
   "base_numbering": 1,
   "nav_menu": {},
   "number_sections": false,
   "sideBar": true,
   "skip_h1_title": false,
   "title_cell": "Table of Contents",
   "title_sidebar": "Contents",
   "toc_cell": false,
   "toc_position": {
    "height": "calc(100% - 180px)",
    "left": "10px",
    "top": "150px",
    "width": "165px"
   },
   "toc_section_display": true,
   "toc_window_display": true
  }
 },
 "nbformat": 4,
 "nbformat_minor": 4
}
